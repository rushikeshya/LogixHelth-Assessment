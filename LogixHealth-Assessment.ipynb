{
 "cells": [
  {
   "cell_type": "code",
   "execution_count": 1,
   "id": "80001acd",
   "metadata": {},
   "outputs": [
    {
     "name": "stdout",
     "output_type": "stream",
     "text": [
      "4\n",
      "000\n",
      "0\n",
      "2010112\n",
      "2\n",
      "1011210\n",
      "1\n",
      "2120201\n",
      "2\n"
     ]
    }
   ],
   "source": [
    "from sys import maxsize\n",
    "\n",
    "def sameCharAdj(string):\n",
    "    n = len(string)\n",
    "    st = set()\n",
    "    st.add(string[0])\n",
    "    for i in range(1, n):\n",
    "        if string[i] == string[i - 1]:\n",
    "            continue\n",
    "        if string[i] in st:\n",
    "            return False\n",
    "        st.add(string[i])\n",
    "    return True\n",
    "\n",
    "def minSwaps(string, l, r, cnt, minm):\n",
    "    if l == r:\n",
    "        if sameCharAdj(string):\n",
    "            return cnt\n",
    "        else:\n",
    "            return maxsize\n",
    "        \n",
    "    for i in range(l + 1, r + 1, 1):\n",
    "        string[i], string[l] = string[l], string[i]\n",
    "        cnt += 1\n",
    "        x = minSwaps(string, l + 1, r, cnt, minm)\n",
    "        string[i], string[l] = string[l], string[i]\n",
    "        cnt -= 1\n",
    "        y = minSwaps(string, l + 1, r, cnt, minm)\n",
    "        minm = min(minm, min(x, y))\n",
    "    return minm\n",
    "\n",
    "\n",
    "T = int(input().strip())\n",
    "for _ in range(T):\n",
    "    string = input().strip()\n",
    "    string = list(string)d\n",
    "    n = len(string)\n",
    "    cnt = 0\n",
    "    minm = maxsize\n",
    "    print(minSwaps(string, 0, n - 1, cnt, minm))"
   ]
  },
  {
   "cell_type": "code",
   "execution_count": null,
   "id": "9f6de821",
   "metadata": {},
   "outputs": [],
   "source": []
  }
 ],
 "metadata": {
  "kernelspec": {
   "display_name": "Python 3 (ipykernel)",
   "language": "python",
   "name": "python3"
  },
  "language_info": {
   "codemirror_mode": {
    "name": "ipython",
    "version": 3
   },
   "file_extension": ".py",
   "mimetype": "text/x-python",
   "name": "python",
   "nbconvert_exporter": "python",
   "pygments_lexer": "ipython3",
   "version": "3.9.12"
  }
 },
 "nbformat": 4,
 "nbformat_minor": 5
}
